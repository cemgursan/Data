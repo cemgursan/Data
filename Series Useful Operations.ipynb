{
 "cells": [
  {
   "cell_type": "code",
   "execution_count": 1,
   "metadata": {},
   "outputs": [],
   "source": [
    "import numpy as np\n",
    "import pandas as pd\n",
    "from pandas import Series,DataFrame"
   ]
  },
  {
   "cell_type": "code",
   "execution_count": 76,
   "metadata": {},
   "outputs": [],
   "source": [
    "### Series Operations ###\n",
    "\n",
    "### Define Series ###\n",
    "\n",
    "#Define series\n",
    "Seri = pd.Series([3,6,9,12])\n",
    "\n",
    "#Define series with an Index a,b,c,d\n",
    "Seri = pd.Series([3,6,9,12], index=[\"a\",\"b\",\"c\",\"d\"])\n",
    "\n",
    "#Transform list to Series\n",
    "list1= [3,6,9,12]\n",
    "Seri= pd.Series(list1)\n",
    "\n",
    "#Tranform Array to Series\n",
    "arr1 = np.array([3,6,9,12])\n",
    "Seri = pd.Series(arr1)\n"
   ]
  },
  {
   "cell_type": "code",
   "execution_count": 77,
   "metadata": {},
   "outputs": [
    {
     "data": {
      "text/plain": [
       "9"
      ]
     },
     "execution_count": 77,
     "metadata": {},
     "output_type": "execute_result"
    }
   ],
   "source": [
    "### Retrieve Elements from Series ###\n",
    "\n",
    "#Retrieve first 2 item in the series\n",
    "Seri[:2]\n",
    "Seri.head(2)\n",
    "\n",
    "#Retrieve after 2nd item in the series\n",
    "Seri[2:]\n",
    "\n",
    "#Retrieve last 2 item in the series\n",
    "Seri.tail(2)\n",
    "\n",
    "#Retrieve with index\n",
    "Seri = pd.Series([3,6,9,12], index=[\"a\",\"b\",\"c\",\"d\"])\n",
    "\n",
    "#First item in the series\n",
    "Seri[0] \n",
    "Seri[\"a\"]\n",
    "\n",
    "#Third item\n",
    "Seri[2]\n",
    "Seri[\"c\"]\n"
   ]
  },
  {
   "cell_type": "code",
   "execution_count": 78,
   "metadata": {},
   "outputs": [
    {
     "data": {
      "text/plain": [
       "b    6\n",
       "c    9\n",
       "dtype: int64"
      ]
     },
     "execution_count": 78,
     "metadata": {},
     "output_type": "execute_result"
    }
   ],
   "source": [
    "# Use loc to locate item in the series with index\n",
    "Seri = pd.Series([3,6,9,12], index=[\"a\",\"b\",\"c\",\"d\"])\n",
    "Seri.loc[\"a\"]\n",
    "\n",
    "#Use loc with item number in the series without index \n",
    "Seri.iloc[1:3]"
   ]
  },
  {
   "cell_type": "code",
   "execution_count": 101,
   "metadata": {},
   "outputs": [
    {
     "data": {
      "text/plain": [
       "d    9\n",
       "e    5\n",
       "f    7\n",
       "g    6\n",
       "dtype: int64"
      ]
     },
     "execution_count": 101,
     "metadata": {},
     "output_type": "execute_result"
    }
   ],
   "source": [
    "#Series Useful Functions \n",
    "Seri1 =pd.Series([0,1,2,None])\n",
    "\n",
    "#count()\tReturns number of non-NA/null observations in the Series\n",
    "Seri1.count()\n",
    "\n",
    "#size\tReturns the number of elements in the underlying data\n",
    "Seri1.size\n",
    "\n",
    "#name()\tMethod allows to give a name to a Series object, i.e. to the column\n",
    "Seri1 =pd.Series([0,1,2], name=\"This is Series name\")\n",
    "Seri1.name\n",
    "\n",
    "#is_unique()\tMethod returns boolean if values in the object are unique\n",
    "Seri2 = pd.Series([0,1,2])\n",
    "Seri2.is_unique # True\n",
    "Seri2 = pd.Series([0,1,2,2])\n",
    "Seri2.is_unique # False\n",
    "\n",
    "#idxmax()\tMethod to extract the index positions of the highest values in a Series\n",
    "Seri1.idxmax()\n",
    "\n",
    "#idxmin()\tMethod to extract the index positions of the lowest values in a Series\n",
    "Seri1.idxmin()\n",
    "\n",
    "#sort_values()\tMethod is called on a Series to sort the values in ascending or descending order\n",
    "Seri3 = pd.Series([9,7,6,5])\n",
    "#ascending order\n",
    "Seri3.sort_values() \n",
    "#descending order\n",
    "Seri3.sort_values(ascending=False)  \n",
    "\n",
    "#sort_index()\tMethod is called on a pandas Series to sort it by the index instead of its values\n",
    "Seri3 = pd.Series([9,7,6,5], index=[\"d\",\"f\",\"g\",\"e\"])\n",
    "Seri3.sort_index()\n"
   ]
  },
  {
   "cell_type": "code",
   "execution_count": 44,
   "metadata": {},
   "outputs": [
    {
     "data": {
      "text/plain": [
       "0    0.000000\n",
       "1    0.166667\n",
       "2    0.222222\n",
       "dtype: float64"
      ]
     },
     "execution_count": 44,
     "metadata": {},
     "output_type": "execute_result"
    }
   ],
   "source": [
    "#Binary Operations on Series\n",
    "\n",
    "#Define two series\n",
    "Seri1 =Series([0,1,2])\n",
    "Seri2 =Series([3,6,9])\n",
    "\n",
    "# Addition \n",
    "Seri1.add(Seri2)\n",
    "\n",
    "# Subtraction -> Seri1-Seri2\n",
    "Seri1.sub(Seri2)\n",
    "\n",
    "# Multiplication\n",
    "Seri1.multiply(Seri2)\n",
    "\n",
    "# Division\n",
    "Seri1.div(Seri2)"
   ]
  },
  {
   "cell_type": "code",
   "execution_count": 56,
   "metadata": {},
   "outputs": [
    {
     "data": {
      "text/plain": [
       "0    0\n",
       "1    1\n",
       "2    2\n",
       "dtype: int64"
      ]
     },
     "execution_count": 56,
     "metadata": {},
     "output_type": "execute_result"
    }
   ],
   "source": [
    "# Some other Operations\n",
    "Seri1 =Series([0,1,2])\n",
    "Seri2 =Series([3,6,9])\n",
    "\n",
    "#Mean Returns the mean of the values for the requested axis\n",
    "Seri1.mean()\n",
    "\n",
    "#Cov is used to find covariance of two series\n",
    "Seri1.cov(Seri2)\n",
    "\n",
    "#Abs is used to get the absolute numeric value of each element in Series/DataFrame\n",
    "Seri1.abs()\n",
    "\n"
   ]
  }
 ],
 "metadata": {
  "kernelspec": {
   "display_name": "Python 3",
   "language": "python",
   "name": "python3"
  },
  "language_info": {
   "codemirror_mode": {
    "name": "ipython",
    "version": 3
   },
   "file_extension": ".py",
   "mimetype": "text/x-python",
   "name": "python",
   "nbconvert_exporter": "python",
   "pygments_lexer": "ipython3",
   "version": "3.6.3"
  }
 },
 "nbformat": 4,
 "nbformat_minor": 2
}
